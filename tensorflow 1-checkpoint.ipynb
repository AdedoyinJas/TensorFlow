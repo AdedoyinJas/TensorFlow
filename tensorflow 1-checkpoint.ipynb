{
 "cells": [
  {
   "cell_type": "code",
   "execution_count": 1,
   "metadata": {},
   "outputs": [
    {
     "name": "stderr",
     "output_type": "stream",
     "text": [
      "C:\\Users\\Abdulkabir\\anaconda3\\anaconda4\\lib\\site-packages\\tensorflow\\python\\framework\\dtypes.py:516: FutureWarning: Passing (type, 1) or '1type' as a synonym of type is deprecated; in a future version of numpy, it will be understood as (type, (1,)) / '(1,)type'.\n",
      "  _np_qint8 = np.dtype([(\"qint8\", np.int8, 1)])\n",
      "C:\\Users\\Abdulkabir\\anaconda3\\anaconda4\\lib\\site-packages\\tensorflow\\python\\framework\\dtypes.py:517: FutureWarning: Passing (type, 1) or '1type' as a synonym of type is deprecated; in a future version of numpy, it will be understood as (type, (1,)) / '(1,)type'.\n",
      "  _np_quint8 = np.dtype([(\"quint8\", np.uint8, 1)])\n",
      "C:\\Users\\Abdulkabir\\anaconda3\\anaconda4\\lib\\site-packages\\tensorflow\\python\\framework\\dtypes.py:518: FutureWarning: Passing (type, 1) or '1type' as a synonym of type is deprecated; in a future version of numpy, it will be understood as (type, (1,)) / '(1,)type'.\n",
      "  _np_qint16 = np.dtype([(\"qint16\", np.int16, 1)])\n",
      "C:\\Users\\Abdulkabir\\anaconda3\\anaconda4\\lib\\site-packages\\tensorflow\\python\\framework\\dtypes.py:519: FutureWarning: Passing (type, 1) or '1type' as a synonym of type is deprecated; in a future version of numpy, it will be understood as (type, (1,)) / '(1,)type'.\n",
      "  _np_quint16 = np.dtype([(\"quint16\", np.uint16, 1)])\n",
      "C:\\Users\\Abdulkabir\\anaconda3\\anaconda4\\lib\\site-packages\\tensorflow\\python\\framework\\dtypes.py:520: FutureWarning: Passing (type, 1) or '1type' as a synonym of type is deprecated; in a future version of numpy, it will be understood as (type, (1,)) / '(1,)type'.\n",
      "  _np_qint32 = np.dtype([(\"qint32\", np.int32, 1)])\n",
      "C:\\Users\\Abdulkabir\\anaconda3\\anaconda4\\lib\\site-packages\\tensorflow\\python\\framework\\dtypes.py:525: FutureWarning: Passing (type, 1) or '1type' as a synonym of type is deprecated; in a future version of numpy, it will be understood as (type, (1,)) / '(1,)type'.\n",
      "  np_resource = np.dtype([(\"resource\", np.ubyte, 1)])\n",
      "C:\\Users\\Abdulkabir\\anaconda3\\anaconda4\\lib\\site-packages\\tensorboard\\compat\\tensorflow_stub\\dtypes.py:541: FutureWarning: Passing (type, 1) or '1type' as a synonym of type is deprecated; in a future version of numpy, it will be understood as (type, (1,)) / '(1,)type'.\n",
      "  _np_qint8 = np.dtype([(\"qint8\", np.int8, 1)])\n",
      "C:\\Users\\Abdulkabir\\anaconda3\\anaconda4\\lib\\site-packages\\tensorboard\\compat\\tensorflow_stub\\dtypes.py:542: FutureWarning: Passing (type, 1) or '1type' as a synonym of type is deprecated; in a future version of numpy, it will be understood as (type, (1,)) / '(1,)type'.\n",
      "  _np_quint8 = np.dtype([(\"quint8\", np.uint8, 1)])\n",
      "C:\\Users\\Abdulkabir\\anaconda3\\anaconda4\\lib\\site-packages\\tensorboard\\compat\\tensorflow_stub\\dtypes.py:543: FutureWarning: Passing (type, 1) or '1type' as a synonym of type is deprecated; in a future version of numpy, it will be understood as (type, (1,)) / '(1,)type'.\n",
      "  _np_qint16 = np.dtype([(\"qint16\", np.int16, 1)])\n",
      "C:\\Users\\Abdulkabir\\anaconda3\\anaconda4\\lib\\site-packages\\tensorboard\\compat\\tensorflow_stub\\dtypes.py:544: FutureWarning: Passing (type, 1) or '1type' as a synonym of type is deprecated; in a future version of numpy, it will be understood as (type, (1,)) / '(1,)type'.\n",
      "  _np_quint16 = np.dtype([(\"quint16\", np.uint16, 1)])\n",
      "C:\\Users\\Abdulkabir\\anaconda3\\anaconda4\\lib\\site-packages\\tensorboard\\compat\\tensorflow_stub\\dtypes.py:545: FutureWarning: Passing (type, 1) or '1type' as a synonym of type is deprecated; in a future version of numpy, it will be understood as (type, (1,)) / '(1,)type'.\n",
      "  _np_qint32 = np.dtype([(\"qint32\", np.int32, 1)])\n",
      "C:\\Users\\Abdulkabir\\anaconda3\\anaconda4\\lib\\site-packages\\tensorboard\\compat\\tensorflow_stub\\dtypes.py:550: FutureWarning: Passing (type, 1) or '1type' as a synonym of type is deprecated; in a future version of numpy, it will be understood as (type, (1,)) / '(1,)type'.\n",
      "  np_resource = np.dtype([(\"resource\", np.ubyte, 1)])\n"
     ]
    }
   ],
   "source": [
    "import tensorflow as tf"
   ]
  },
  {
   "cell_type": "code",
   "execution_count": 2,
   "metadata": {},
   "outputs": [
    {
     "data": {
      "text/plain": [
       "<module 'tensorflow._api.v1.version' from 'C:\\\\Users\\\\Abdulkabir\\\\anaconda3\\\\anaconda4\\\\lib\\\\site-packages\\\\tensorflow\\\\_api\\\\v1\\\\version\\\\__init__.py'>"
      ]
     },
     "execution_count": 2,
     "metadata": {},
     "output_type": "execute_result"
    }
   ],
   "source": [
    "tf.version"
   ]
  },
  {
   "cell_type": "code",
   "execution_count": 3,
   "metadata": {},
   "outputs": [],
   "source": [
    "import numpy as np \n",
    "import pandas as pd \n",
    "import matplotlib as plt \n",
    "import seaborn as sns"
   ]
  },
  {
   "cell_type": "code",
   "execution_count": 4,
   "metadata": {},
   "outputs": [],
   "source": [
    "df = pd.read_csv('fake_reg.csv')\n"
   ]
  },
  {
   "cell_type": "code",
   "execution_count": 5,
   "metadata": {},
   "outputs": [
    {
     "data": {
      "text/html": [
       "<div>\n",
       "<style scoped>\n",
       "    .dataframe tbody tr th:only-of-type {\n",
       "        vertical-align: middle;\n",
       "    }\n",
       "\n",
       "    .dataframe tbody tr th {\n",
       "        vertical-align: top;\n",
       "    }\n",
       "\n",
       "    .dataframe thead th {\n",
       "        text-align: right;\n",
       "    }\n",
       "</style>\n",
       "<table border=\"1\" class=\"dataframe\">\n",
       "  <thead>\n",
       "    <tr style=\"text-align: right;\">\n",
       "      <th></th>\n",
       "      <th>price</th>\n",
       "      <th>feature1</th>\n",
       "      <th>feature2</th>\n",
       "    </tr>\n",
       "  </thead>\n",
       "  <tbody>\n",
       "    <tr>\n",
       "      <th>0</th>\n",
       "      <td>461.527929</td>\n",
       "      <td>999.787558</td>\n",
       "      <td>999.766096</td>\n",
       "    </tr>\n",
       "    <tr>\n",
       "      <th>1</th>\n",
       "      <td>548.130011</td>\n",
       "      <td>998.861615</td>\n",
       "      <td>1001.042403</td>\n",
       "    </tr>\n",
       "    <tr>\n",
       "      <th>2</th>\n",
       "      <td>410.297162</td>\n",
       "      <td>1000.070267</td>\n",
       "      <td>998.844015</td>\n",
       "    </tr>\n",
       "    <tr>\n",
       "      <th>3</th>\n",
       "      <td>540.382220</td>\n",
       "      <td>999.952251</td>\n",
       "      <td>1000.440940</td>\n",
       "    </tr>\n",
       "    <tr>\n",
       "      <th>4</th>\n",
       "      <td>546.024553</td>\n",
       "      <td>1000.446011</td>\n",
       "      <td>1000.338531</td>\n",
       "    </tr>\n",
       "  </tbody>\n",
       "</table>\n",
       "</div>"
      ],
      "text/plain": [
       "        price     feature1     feature2\n",
       "0  461.527929   999.787558   999.766096\n",
       "1  548.130011   998.861615  1001.042403\n",
       "2  410.297162  1000.070267   998.844015\n",
       "3  540.382220   999.952251  1000.440940\n",
       "4  546.024553  1000.446011  1000.338531"
      ]
     },
     "execution_count": 5,
     "metadata": {},
     "output_type": "execute_result"
    }
   ],
   "source": [
    "df.head()"
   ]
  },
  {
   "cell_type": "code",
   "execution_count": 6,
   "metadata": {},
   "outputs": [
    {
     "data": {
      "text/plain": [
       "<seaborn.axisgrid.PairGrid at 0x1b14ae35088>"
      ]
     },
     "execution_count": 6,
     "metadata": {},
     "output_type": "execute_result"
    },
    {
     "data": {
      "image/png": "[encoded data removed]",
      "text/plain": [
       "<Figure size 540x540 with 12 Axes>"
      ]
     },
     "metadata": {
      "needs_background": "light"
     },
     "output_type": "display_data"
    }
   ],
   "source": [
    "sns.pairplot(df)"
   ]
  },
  {
   "cell_type": "code",
   "execution_count": 7,
   "metadata": {},
   "outputs": [],
   "source": [
    "X = df[['feature1' , 'feature2']].values\n",
    "y = df['price'].values"
   ]
  },
  {
   "cell_type": "code",
   "execution_count": 29,
   "metadata": {},
   "outputs": [],
   "source": [
    "from sklearn.model_selection import train_test_split"
   ]
  },
  {
   "cell_type": "code",
   "execution_count": 30,
   "metadata": {},
   "outputs": [],
   "source": [
    "X_train, X_test, y_train, y_test = train_test_split(X,y,test_size = 0.3, random_state = 42)"
   ]
  },
  {
   "cell_type": "code",
   "execution_count": 31,
   "metadata": {},
   "outputs": [],
   "source": [
    "from sklearn.preprocessing import MinMaxScaler"
   ]
  },
  {
   "cell_type": "code",
   "execution_count": 37,
   "metadata": {},
   "outputs": [],
   "source": [
    "scaler = MinMaxScaler()"
   ]
  },
  {
   "cell_type": "code",
   "execution_count": 38,
   "metadata": {},
   "outputs": [
    {
     "data": {
      "text/plain": [
       "MinMaxScaler(copy=True, feature_range=(0, 1))"
      ]
     },
     "execution_count": 38,
     "metadata": {},
     "output_type": "execute_result"
    }
   ],
   "source": [
    "scaler.fit(X_train)"
   ]
  },
  {
   "cell_type": "code",
   "execution_count": 39,
   "metadata": {},
   "outputs": [],
   "source": [
    "X_train = scaler.transform(X_train)"
   ]
  },
  {
   "cell_type": "code",
   "execution_count": 78,
   "metadata": {},
   "outputs": [
    {
     "data": {
      "text/plain": [
       "MinMaxScaler(copy=True, feature_range=(0, 1))"
      ]
     },
     "execution_count": 78,
     "metadata": {},
     "output_type": "execute_result"
    }
   ],
   "source": [
    "scaler.fit(X_test)"
   ]
  },
  {
   "cell_type": "code",
   "execution_count": 79,
   "metadata": {},
   "outputs": [],
   "source": [
    "X_test = scaler.transform(X_test)"
   ]
  },
  {
   "cell_type": "code",
   "execution_count": 80,
   "metadata": {},
   "outputs": [],
   "source": [
    "from tensorflow.keras.models import Sequential\n",
    "from tensorflow.keras.layers import Dense"
   ]
  },
  {
   "cell_type": "code",
   "execution_count": 81,
   "metadata": {},
   "outputs": [],
   "source": [
    "#method1\n",
    "#model = Sequential ([Dense(4, activation = 'relu'),\n",
    "                    #Dense(4, activation = 'relu'),\n",
    "                    #Dense(1)])"
   ]
  },
  {
   "cell_type": "code",
   "execution_count": 82,
   "metadata": {},
   "outputs": [],
   "source": [
    "model = Sequential() \n",
    "\n",
    "model.add(Dense(4, activation = 'relu'))\n",
    "model.add(Dense(4, activation = 'relu'))\n",
    "model.add(Dense(4, activation = 'relu'))\n",
    "           \n",
    "model.add(Dense(1))\n",
    "           \n",
    "model.compile(optimizer = 'rmsprop' , loss = 'mse')"
   ]
  },
  {
   "cell_type": "code",
   "execution_count": 83,
   "metadata": {},
   "outputs": [
    {
     "data": {
      "text/plain": [
       "(700, 2)"
      ]
     },
     "execution_count": 83,
     "metadata": {},
     "output_type": "execute_result"
    }
   ],
   "source": [
    "X_train.shape"
   ]
  },
  {
   "cell_type": "code",
   "execution_count": 84,
   "metadata": {},
   "outputs": [
    {
     "name": "stdout",
     "output_type": "stream",
     "text": [
      "Epoch 1/250\n",
      "700/700 [==============================] - 0s 453us/sample - loss: 256640.5081\n",
      "Epoch 2/250\n",
      "700/700 [==============================] - 0s 53us/sample - loss: 256505.6062\n",
      "Epoch 3/250\n",
      "700/700 [==============================] - 0s 47us/sample - loss: 256373.0009\n",
      "Epoch 4/250\n",
      "700/700 [==============================] - 0s 47us/sample - loss: 256227.4770\n",
      "Epoch 5/250\n",
      "700/700 [==============================] - 0s 46us/sample - loss: 256063.1612\n",
      "Epoch 6/250\n",
      "700/700 [==============================] - 0s 46us/sample - loss: 255880.0232\n",
      "Epoch 7/250\n",
      "700/700 [==============================] - 0s 51us/sample - loss: 255675.6387\n",
      "Epoch 8/250\n",
      "700/700 [==============================] - 0s 49us/sample - loss: 255448.1771\n",
      "Epoch 9/250\n",
      "700/700 [==============================] - 0s 55us/sample - loss: 255198.2426\n",
      "Epoch 10/250\n",
      "700/700 [==============================] - 0s 46us/sample - loss: 254923.0877\n",
      "Epoch 11/250\n",
      "700/700 [==============================] - 0s 47us/sample - loss: 254624.2141\n",
      "Epoch 12/250\n",
      "700/700 [==============================] - 0s 49us/sample - loss: 254299.0159\n",
      "Epoch 13/250\n",
      "700/700 [==============================] - 0s 46us/sample - loss: 253945.0891\n",
      "Epoch 14/250\n",
      "700/700 [==============================] - 0s 47us/sample - loss: 253564.7628\n",
      "Epoch 15/250\n",
      "700/700 [==============================] - 0s 48us/sample - loss: 253152.7510\n",
      "Epoch 16/250\n",
      "700/700 [==============================] - 0s 50us/sample - loss: 252708.9222\n",
      "Epoch 17/250\n",
      "700/700 [==============================] - 0s 49us/sample - loss: 252219.5816\n",
      "Epoch 18/250\n",
      "700/700 [==============================] - 0s 47us/sample - loss: 251680.1062\n",
      "Epoch 19/250\n",
      "700/700 [==============================] - 0s 47us/sample - loss: 251086.9845\n",
      "Epoch 20/250\n",
      "700/700 [==============================] - 0s 46us/sample - loss: 250435.6079\n",
      "Epoch 21/250\n",
      "700/700 [==============================] - 0s 46us/sample - loss: 249725.3315\n",
      "Epoch 22/250\n",
      "700/700 [==============================] - 0s 46us/sample - loss: 248946.4984\n",
      "Epoch 23/250\n",
      "700/700 [==============================] - 0s 46us/sample - loss: 248098.3007\n",
      "Epoch 24/250\n",
      "700/700 [==============================] - 0s 45us/sample - loss: 247186.4349\n",
      "Epoch 25/250\n",
      "700/700 [==============================] - 0s 49us/sample - loss: 246185.4657\n",
      "Epoch 26/250\n",
      "700/700 [==============================] - 0s 46us/sample - loss: 245110.4434\n",
      "Epoch 27/250\n",
      "700/700 [==============================] - 0s 58us/sample - loss: 243954.1249\n",
      "Epoch 28/250\n",
      "700/700 [==============================] - 0s 51us/sample - loss: 242695.5666\n",
      "Epoch 29/250\n",
      "700/700 [==============================] - 0s 59us/sample - loss: 241351.0759\n",
      "Epoch 30/250\n",
      "700/700 [==============================] - 0s 60us/sample - loss: 239906.0627\n",
      "Epoch 31/250\n",
      "700/700 [==============================] - 0s 52us/sample - loss: 238358.3445\n",
      "Epoch 32/250\n",
      "700/700 [==============================] - 0s 48us/sample - loss: 236707.7758\n",
      "Epoch 33/250\n",
      "700/700 [==============================] - 0s 49us/sample - loss: 234947.1129\n",
      "Epoch 34/250\n",
      "700/700 [==============================] - 0s 46us/sample - loss: 233067.0548\n",
      "Epoch 35/250\n",
      "700/700 [==============================] - 0s 47us/sample - loss: 231066.4534\n",
      "Epoch 36/250\n",
      "700/700 [==============================] - 0s 47us/sample - loss: 228950.2798\n",
      "Epoch 37/250\n",
      "700/700 [==============================] - 0s 46us/sample - loss: 226697.1415\n",
      "Epoch 38/250\n",
      "700/700 [==============================] - 0s 48us/sample - loss: 224308.2536\n",
      "Epoch 39/250\n",
      "700/700 [==============================] - 0s 57us/sample - loss: 221783.3524\n",
      "Epoch 40/250\n",
      "700/700 [==============================] - 0s 61us/sample - loss: 219134.5128\n",
      "Epoch 41/250\n",
      "700/700 [==============================] - 0s 57us/sample - loss: 216334.9612\n",
      "Epoch 42/250\n",
      "700/700 [==============================] - 0s 45us/sample - loss: 213387.0123\n",
      "Epoch 43/250\n",
      "700/700 [==============================] - 0s 49us/sample - loss: 210302.5796\n",
      "Epoch 44/250\n",
      "700/700 [==============================] - 0s 44us/sample - loss: 207051.8476\n",
      "Epoch 45/250\n",
      "700/700 [==============================] - 0s 48us/sample - loss: 203654.9538\n",
      "Epoch 46/250\n",
      "700/700 [==============================] - 0s 57us/sample - loss: 200097.2146\n",
      "Epoch 47/250\n",
      "700/700 [==============================] - 0s 53us/sample - loss: 196399.0247\n",
      "Epoch 48/250\n",
      "700/700 [==============================] - 0s 54us/sample - loss: 192525.9076\n",
      "Epoch 49/250\n",
      "700/700 [==============================] - 0s 61us/sample - loss: 188517.4149\n",
      "Epoch 50/250\n",
      "700/700 [==============================] - 0s 48us/sample - loss: 184336.3334\n",
      "Epoch 51/250\n",
      "700/700 [==============================] - 0s 49us/sample - loss: 179983.3444\n",
      "Epoch 52/250\n",
      "700/700 [==============================] - 0s 57us/sample - loss: 175476.8962\n",
      "Epoch 53/250\n",
      "700/700 [==============================] - 0s 54us/sample - loss: 170822.2577\n",
      "Epoch 54/250\n",
      "700/700 [==============================] - 0s 61us/sample - loss: 166001.1633\n",
      "Epoch 55/250\n",
      "700/700 [==============================] - 0s 56us/sample - loss: 161044.5860\n",
      "Epoch 56/250\n",
      "700/700 [==============================] - 0s 47us/sample - loss: 155948.7036\n",
      "Epoch 57/250\n",
      "700/700 [==============================] - 0s 47us/sample - loss: 150672.2691\n",
      "Epoch 58/250\n",
      "700/700 [==============================] - 0s 48us/sample - loss: 145279.7246\n",
      "Epoch 59/250\n",
      "700/700 [==============================] - 0s 50us/sample - loss: 139768.0044\n",
      "Epoch 60/250\n",
      "700/700 [==============================] - 0s 47us/sample - loss: 134121.5528\n",
      "Epoch 61/250\n",
      "700/700 [==============================] - 0s 53us/sample - loss: 128341.2184\n",
      "Epoch 62/250\n",
      "700/700 [==============================] - 0s 51us/sample - loss: 122460.2077\n",
      "Epoch 63/250\n",
      "700/700 [==============================] - 0s 62us/sample - loss: 116517.3065\n",
      "Epoch 64/250\n",
      "700/700 [==============================] - 0s 60us/sample - loss: 110479.4544\n",
      "Epoch 65/250\n",
      "700/700 [==============================] - 0s 48us/sample - loss: 104393.3271\n",
      "Epoch 66/250\n",
      "700/700 [==============================] - 0s 49us/sample - loss: 98210.5621\n",
      "Epoch 67/250\n",
      "700/700 [==============================] - 0s 49us/sample - loss: 92048.1692\n",
      "Epoch 68/250\n",
      "700/700 [==============================] - 0s 54us/sample - loss: 85824.8658\n",
      "Epoch 69/250\n",
      "700/700 [==============================] - 0s 47us/sample - loss: 79594.2630\n",
      "Epoch 70/250\n",
      "700/700 [==============================] - 0s 60us/sample - loss: 73428.4188\n",
      "Epoch 71/250\n",
      "700/700 [==============================] - 0s 52us/sample - loss: 67311.4220\n",
      "Epoch 72/250\n",
      "700/700 [==============================] - 0s 51us/sample - loss: 61219.6642\n",
      "Epoch 73/250\n",
      "700/700 [==============================] - 0s 48us/sample - loss: 55239.0173\n",
      "Epoch 74/250\n",
      "700/700 [==============================] - 0s 47us/sample - loss: 49423.6224\n",
      "Epoch 75/250\n",
      "700/700 [==============================] - 0s 50us/sample - loss: 43748.1651\n",
      "Epoch 76/250\n",
      "700/700 [==============================] - 0s 48us/sample - loss: 38281.7550\n",
      "Epoch 77/250\n",
      "700/700 [==============================] - 0s 45us/sample - loss: 33036.3737\n",
      "Epoch 78/250\n",
      "700/700 [==============================] - 0s 50us/sample - loss: 28064.3580\n",
      "Epoch 79/250\n",
      "700/700 [==============================] - 0s 48us/sample - loss: 23380.2978\n",
      "Epoch 80/250\n",
      "700/700 [==============================] - 0s 49us/sample - loss: 19081.4091\n",
      "Epoch 81/250\n",
      "700/700 [==============================] - 0s 50us/sample - loss: 15149.9289\n",
      "Epoch 82/250\n",
      "700/700 [==============================] - 0s 50us/sample - loss: 11681.6822\n",
      "Epoch 83/250\n",
      "700/700 [==============================] - 0s 47us/sample - loss: 8694.1131\n",
      "Epoch 84/250\n",
      "700/700 [==============================] - 0s 44us/sample - loss: 6228.6395\n",
      "Epoch 85/250\n",
      "700/700 [==============================] - 0s 49us/sample - loss: 4315.7404\n",
      "Epoch 86/250\n",
      "700/700 [==============================] - 0s 51us/sample - loss: 2988.9957\n",
      "Epoch 87/250\n",
      "700/700 [==============================] - 0s 52us/sample - loss: 2230.6355\n",
      "Epoch 88/250\n",
      "700/700 [==============================] - 0s 51us/sample - loss: 1924.2352\n",
      "Epoch 89/250\n",
      "700/700 [==============================] - 0s 51us/sample - loss: 1856.6500\n",
      "Epoch 90/250\n",
      "700/700 [==============================] - 0s 54us/sample - loss: 1830.9242\n",
      "Epoch 91/250\n"
     ]
    },
    {
     "name": "stdout",
     "output_type": "stream",
     "text": [
      "700/700 [==============================] - 0s 44us/sample - loss: 1797.3336\n",
      "Epoch 92/250\n",
      "700/700 [==============================] - 0s 46us/sample - loss: 1764.6278\n",
      "Epoch 93/250\n",
      "700/700 [==============================] - 0s 43us/sample - loss: 1732.7637\n",
      "Epoch 94/250\n",
      "700/700 [==============================] - 0s 47us/sample - loss: 1704.4185\n",
      "Epoch 95/250\n",
      "700/700 [==============================] - 0s 46us/sample - loss: 1674.5128\n",
      "Epoch 96/250\n",
      "700/700 [==============================] - 0s 46us/sample - loss: 1645.2996\n",
      "Epoch 97/250\n",
      "700/700 [==============================] - 0s 46us/sample - loss: 1612.9290\n",
      "Epoch 98/250\n",
      "700/700 [==============================] - 0s 47us/sample - loss: 1585.4278\n",
      "Epoch 99/250\n",
      "700/700 [==============================] - 0s 45us/sample - loss: 1553.7382\n",
      "Epoch 100/250\n",
      "700/700 [==============================] - 0s 47us/sample - loss: 1527.0767\n",
      "Epoch 101/250\n",
      "700/700 [==============================] - 0s 50us/sample - loss: 1497.5828\n",
      "Epoch 102/250\n",
      "700/700 [==============================] - 0s 47us/sample - loss: 1467.1037\n",
      "Epoch 103/250\n",
      "700/700 [==============================] - 0s 46us/sample - loss: 1440.6069\n",
      "Epoch 104/250\n",
      "700/700 [==============================] - 0s 49us/sample - loss: 1411.2489\n",
      "Epoch 105/250\n",
      "700/700 [==============================] - 0s 49us/sample - loss: 1389.0633\n",
      "Epoch 106/250\n",
      "700/700 [==============================] - 0s 47us/sample - loss: 1360.9473\n",
      "Epoch 107/250\n",
      "700/700 [==============================] - 0s 45us/sample - loss: 1332.9365\n",
      "Epoch 108/250\n",
      "700/700 [==============================] - 0s 46us/sample - loss: 1305.0348\n",
      "Epoch 109/250\n",
      "700/700 [==============================] - 0s 49us/sample - loss: 1277.4210\n",
      "Epoch 110/250\n",
      "700/700 [==============================] - 0s 48us/sample - loss: 1250.1616\n",
      "Epoch 111/250\n",
      "700/700 [==============================] - 0s 49us/sample - loss: 1218.3830\n",
      "Epoch 112/250\n",
      "700/700 [==============================] - 0s 46us/sample - loss: 1197.6398\n",
      "Epoch 113/250\n",
      "700/700 [==============================] - 0s 46us/sample - loss: 1171.6207\n",
      "Epoch 114/250\n",
      "700/700 [==============================] - 0s 42us/sample - loss: 1146.9940\n",
      "Epoch 115/250\n",
      "700/700 [==============================] - 0s 44us/sample - loss: 1121.3148\n",
      "Epoch 116/250\n",
      "700/700 [==============================] - 0s 43us/sample - loss: 1095.3067\n",
      "Epoch 117/250\n",
      "700/700 [==============================] - 0s 49us/sample - loss: 1068.6605\n",
      "Epoch 118/250\n",
      "700/700 [==============================] - 0s 45us/sample - loss: 1041.7387\n",
      "Epoch 119/250\n",
      "700/700 [==============================] - 0s 47us/sample - loss: 1012.5876\n",
      "Epoch 120/250\n",
      "700/700 [==============================] - 0s 43us/sample - loss: 983.3421\n",
      "Epoch 121/250\n",
      "700/700 [==============================] - 0s 47us/sample - loss: 958.0554\n",
      "Epoch 122/250\n",
      "700/700 [==============================] - 0s 44us/sample - loss: 933.4290\n",
      "Epoch 123/250\n",
      "700/700 [==============================] - 0s 45us/sample - loss: 909.5743\n",
      "Epoch 124/250\n",
      "700/700 [==============================] - 0s 44us/sample - loss: 883.0362\n",
      "Epoch 125/250\n",
      "700/700 [==============================] - 0s 44us/sample - loss: 859.1010\n",
      "Epoch 126/250\n",
      "700/700 [==============================] - 0s 44us/sample - loss: 836.4925\n",
      "Epoch 127/250\n",
      "700/700 [==============================] - 0s 44us/sample - loss: 811.8503\n",
      "Epoch 128/250\n",
      "700/700 [==============================] - 0s 44us/sample - loss: 786.4191\n",
      "Epoch 129/250\n",
      "700/700 [==============================] - 0s 47us/sample - loss: 763.3303\n",
      "Epoch 130/250\n",
      "700/700 [==============================] - 0s 46us/sample - loss: 737.8072\n",
      "Epoch 131/250\n",
      "700/700 [==============================] - 0s 46us/sample - loss: 713.9642\n",
      "Epoch 132/250\n",
      "700/700 [==============================] - 0s 46us/sample - loss: 691.3210\n",
      "Epoch 133/250\n",
      "700/700 [==============================] - 0s 46us/sample - loss: 672.1431\n",
      "Epoch 134/250\n",
      "700/700 [==============================] - 0s 47us/sample - loss: 651.4921\n",
      "Epoch 135/250\n",
      "700/700 [==============================] - 0s 47us/sample - loss: 631.8883\n",
      "Epoch 136/250\n",
      "700/700 [==============================] - 0s 47us/sample - loss: 610.7906\n",
      "Epoch 137/250\n",
      "700/700 [==============================] - 0s 47us/sample - loss: 589.8616\n",
      "Epoch 138/250\n",
      "700/700 [==============================] - 0s 47us/sample - loss: 562.4841\n",
      "Epoch 139/250\n",
      "700/700 [==============================] - ETA: 0s - loss: 503.245 - 0s 46us/sample - loss: 549.7452\n",
      "Epoch 140/250\n",
      "700/700 [==============================] - 0s 48us/sample - loss: 528.7953\n",
      "Epoch 141/250\n",
      "700/700 [==============================] - 0s 50us/sample - loss: 510.8125\n",
      "Epoch 142/250\n",
      "700/700 [==============================] - 0s 47us/sample - loss: 491.1340\n",
      "Epoch 143/250\n",
      "700/700 [==============================] - 0s 47us/sample - loss: 473.2567\n",
      "Epoch 144/250\n",
      "700/700 [==============================] - 0s 43us/sample - loss: 456.0849\n",
      "Epoch 145/250\n",
      "700/700 [==============================] - 0s 49us/sample - loss: 437.6422\n",
      "Epoch 146/250\n",
      "700/700 [==============================] - 0s 46us/sample - loss: 420.0142\n",
      "Epoch 147/250\n",
      "700/700 [==============================] - 0s 47us/sample - loss: 402.1635\n",
      "Epoch 148/250\n",
      "700/700 [==============================] - 0s 51us/sample - loss: 386.4781\n",
      "Epoch 149/250\n",
      "700/700 [==============================] - 0s 45us/sample - loss: 372.2431\n",
      "Epoch 150/250\n",
      "700/700 [==============================] - 0s 44us/sample - loss: 354.9439\n",
      "Epoch 151/250\n",
      "700/700 [==============================] - 0s 46us/sample - loss: 340.1414\n",
      "Epoch 152/250\n",
      "700/700 [==============================] - 0s 44us/sample - loss: 326.4650\n",
      "Epoch 153/250\n",
      "700/700 [==============================] - 0s 44us/sample - loss: 311.4646\n",
      "Epoch 154/250\n",
      "700/700 [==============================] - 0s 49us/sample - loss: 295.2469\n",
      "Epoch 155/250\n",
      "700/700 [==============================] - 0s 44us/sample - loss: 283.9078\n",
      "Epoch 156/250\n",
      "700/700 [==============================] - 0s 47us/sample - loss: 271.5552\n",
      "Epoch 157/250\n",
      "700/700 [==============================] - 0s 50us/sample - loss: 258.0309\n",
      "Epoch 158/250\n",
      "700/700 [==============================] - 0s 47us/sample - loss: 245.4908\n",
      "Epoch 159/250\n",
      "700/700 [==============================] - 0s 44us/sample - loss: 230.7484\n",
      "Epoch 160/250\n",
      "700/700 [==============================] - 0s 47us/sample - loss: 217.4341\n",
      "Epoch 161/250\n",
      "700/700 [==============================] - 0s 49us/sample - loss: 206.3233\n",
      "Epoch 162/250\n",
      "700/700 [==============================] - 0s 47us/sample - loss: 196.1272\n",
      "Epoch 163/250\n",
      "700/700 [==============================] - 0s 43us/sample - loss: 184.9925\n",
      "Epoch 164/250\n",
      "700/700 [==============================] - 0s 49us/sample - loss: 176.9633\n",
      "Epoch 165/250\n",
      "700/700 [==============================] - 0s 47us/sample - loss: 165.5885\n",
      "Epoch 166/250\n",
      "700/700 [==============================] - 0s 51us/sample - loss: 154.6394\n",
      "Epoch 167/250\n",
      "700/700 [==============================] - 0s 47us/sample - loss: 145.7566\n",
      "Epoch 168/250\n",
      "700/700 [==============================] - ETA: 0s - loss: 112.607 - 0s 46us/sample - loss: 136.7197\n",
      "Epoch 169/250\n",
      "700/700 [==============================] - 0s 44us/sample - loss: 128.4564\n",
      "Epoch 170/250\n",
      "700/700 [==============================] - 0s 47us/sample - loss: 120.2663\n",
      "Epoch 171/250\n",
      "700/700 [==============================] - 0s 44us/sample - loss: 112.4790\n",
      "Epoch 172/250\n",
      "700/700 [==============================] - 0s 48us/sample - loss: 105.2867\n",
      "Epoch 173/250\n",
      "700/700 [==============================] - 0s 43us/sample - loss: 97.8256\n",
      "Epoch 174/250\n",
      "700/700 [==============================] - 0s 46us/sample - loss: 91.3356\n",
      "Epoch 175/250\n",
      "700/700 [==============================] - 0s 45us/sample - loss: 84.8101\n",
      "Epoch 176/250\n",
      "700/700 [==============================] - 0s 47us/sample - loss: 78.6490\n",
      "Epoch 177/250\n",
      "700/700 [==============================] - 0s 48us/sample - loss: 73.0237\n",
      "Epoch 178/250\n",
      "700/700 [==============================] - ETA: 0s - loss: 73.17 - 0s 47us/sample - loss: 67.5771\n",
      "Epoch 179/250\n",
      "700/700 [==============================] - 0s 51us/sample - loss: 63.0392\n",
      "Epoch 180/250\n",
      "700/700 [==============================] - 0s 44us/sample - loss: 58.9602\n",
      "Epoch 181/250\n",
      "700/700 [==============================] - 0s 49us/sample - loss: 55.1182\n",
      "Epoch 182/250\n"
     ]
    },
    {
     "name": "stdout",
     "output_type": "stream",
     "text": [
      "700/700 [==============================] - 0s 46us/sample - loss: 51.2560\n",
      "Epoch 183/250\n",
      "700/700 [==============================] - 0s 49us/sample - loss: 48.2391\n",
      "Epoch 184/250\n",
      "700/700 [==============================] - 0s 44us/sample - loss: 44.7431\n",
      "Epoch 185/250\n",
      "700/700 [==============================] - 0s 49us/sample - loss: 42.5676\n",
      "Epoch 186/250\n",
      "700/700 [==============================] - 0s 42us/sample - loss: 39.7966\n",
      "Epoch 187/250\n",
      "700/700 [==============================] - 0s 44us/sample - loss: 38.1664\n",
      "Epoch 188/250\n",
      "700/700 [==============================] - 0s 46us/sample - loss: 36.0100\n",
      "Epoch 189/250\n",
      "700/700 [==============================] - 0s 41us/sample - loss: 34.3422\n",
      "Epoch 190/250\n",
      "700/700 [==============================] - 0s 46us/sample - loss: 32.4331\n",
      "Epoch 191/250\n",
      "700/700 [==============================] - 0s 46us/sample - loss: 31.7965\n",
      "Epoch 192/250\n",
      "700/700 [==============================] - 0s 43us/sample - loss: 30.7274\n",
      "Epoch 193/250\n",
      "700/700 [==============================] - 0s 50us/sample - loss: 29.4780\n",
      "Epoch 194/250\n",
      "700/700 [==============================] - 0s 43us/sample - loss: 28.8631\n",
      "Epoch 195/250\n",
      "700/700 [==============================] - 0s 46us/sample - loss: 27.9838\n",
      "Epoch 196/250\n",
      "700/700 [==============================] - 0s 44us/sample - loss: 27.5936\n",
      "Epoch 197/250\n",
      "700/700 [==============================] - 0s 46us/sample - loss: 26.6767\n",
      "Epoch 198/250\n",
      "700/700 [==============================] - 0s 42us/sample - loss: 26.8831\n",
      "Epoch 199/250\n",
      "700/700 [==============================] - 0s 50us/sample - loss: 25.8767\n",
      "Epoch 200/250\n",
      "700/700 [==============================] - 0s 41us/sample - loss: 25.6175\n",
      "Epoch 201/250\n",
      "700/700 [==============================] - 0s 48us/sample - loss: 25.4600\n",
      "Epoch 202/250\n",
      "700/700 [==============================] - 0s 43us/sample - loss: 25.3201\n",
      "Epoch 203/250\n",
      "700/700 [==============================] - 0s 43us/sample - loss: 25.0202\n",
      "Epoch 204/250\n",
      "700/700 [==============================] - 0s 47us/sample - loss: 25.3088\n",
      "Epoch 205/250\n",
      "700/700 [==============================] - 0s 46us/sample - loss: 25.1692\n",
      "Epoch 206/250\n",
      "700/700 [==============================] - 0s 43us/sample - loss: 24.7256\n",
      "Epoch 207/250\n",
      "700/700 [==============================] - 0s 42us/sample - loss: 24.3156\n",
      "Epoch 208/250\n",
      "700/700 [==============================] - 0s 47us/sample - loss: 24.9523\n",
      "Epoch 209/250\n",
      "700/700 [==============================] - 0s 46us/sample - loss: 24.8187\n",
      "Epoch 210/250\n",
      "700/700 [==============================] - 0s 44us/sample - loss: 24.6694\n",
      "Epoch 211/250\n",
      "700/700 [==============================] - 0s 43us/sample - loss: 24.0237\n",
      "Epoch 212/250\n",
      "700/700 [==============================] - 0s 44us/sample - loss: 24.4923\n",
      "Epoch 213/250\n",
      "700/700 [==============================] - 0s 44us/sample - loss: 24.8381\n",
      "Epoch 214/250\n",
      "700/700 [==============================] - 0s 44us/sample - loss: 24.6893\n",
      "Epoch 215/250\n",
      "700/700 [==============================] - 0s 43us/sample - loss: 24.1997\n",
      "Epoch 216/250\n",
      "700/700 [==============================] - 0s 46us/sample - loss: 24.4888\n",
      "Epoch 217/250\n",
      "700/700 [==============================] - 0s 47us/sample - loss: 24.2695\n",
      "Epoch 218/250\n",
      "700/700 [==============================] - 0s 44us/sample - loss: 24.4797\n",
      "Epoch 219/250\n",
      "700/700 [==============================] - 0s 47us/sample - loss: 24.3378\n",
      "Epoch 220/250\n",
      "700/700 [==============================] - 0s 49us/sample - loss: 24.6319\n",
      "Epoch 221/250\n",
      "700/700 [==============================] - 0s 46us/sample - loss: 24.3709\n",
      "Epoch 222/250\n",
      "700/700 [==============================] - 0s 48us/sample - loss: 24.3230\n",
      "Epoch 223/250\n",
      "700/700 [==============================] - 0s 47us/sample - loss: 24.1981\n",
      "Epoch 224/250\n",
      "700/700 [==============================] - 0s 47us/sample - loss: 24.0178\n",
      "Epoch 225/250\n",
      "700/700 [==============================] - 0s 47us/sample - loss: 24.3446\n",
      "Epoch 226/250\n",
      "700/700 [==============================] - 0s 46us/sample - loss: 24.4493\n",
      "Epoch 227/250\n",
      "700/700 [==============================] - 0s 46us/sample - loss: 24.4725\n",
      "Epoch 228/250\n",
      "700/700 [==============================] - 0s 46us/sample - loss: 24.4179\n",
      "Epoch 229/250\n",
      "700/700 [==============================] - 0s 46us/sample - loss: 24.5650\n",
      "Epoch 230/250\n",
      "700/700 [==============================] - 0s 48us/sample - loss: 24.1226\n",
      "Epoch 231/250\n",
      "700/700 [==============================] - 0s 47us/sample - loss: 24.0382\n",
      "Epoch 232/250\n",
      "700/700 [==============================] - 0s 49us/sample - loss: 24.0757\n",
      "Epoch 233/250\n",
      "700/700 [==============================] - 0s 48us/sample - loss: 24.2300\n",
      "Epoch 234/250\n",
      "700/700 [==============================] - 0s 47us/sample - loss: 24.6020\n",
      "Epoch 235/250\n",
      "700/700 [==============================] - 0s 46us/sample - loss: 24.1900\n",
      "Epoch 236/250\n",
      "700/700 [==============================] - 0s 49us/sample - loss: 23.9715\n",
      "Epoch 237/250\n",
      "700/700 [==============================] - 0s 49us/sample - loss: 24.7070\n",
      "Epoch 238/250\n",
      "700/700 [==============================] - 0s 44us/sample - loss: 23.9454\n",
      "Epoch 239/250\n",
      "700/700 [==============================] - 0s 46us/sample - loss: 24.4300\n",
      "Epoch 240/250\n",
      "700/700 [==============================] - 0s 46us/sample - loss: 24.1731\n",
      "Epoch 241/250\n",
      "700/700 [==============================] - 0s 43us/sample - loss: 24.3303\n",
      "Epoch 242/250\n",
      "700/700 [==============================] - 0s 45us/sample - loss: 24.4699\n",
      "Epoch 243/250\n",
      "700/700 [==============================] - 0s 44us/sample - loss: 24.0791\n",
      "Epoch 244/250\n",
      "700/700 [==============================] - 0s 46us/sample - loss: 24.6383\n",
      "Epoch 245/250\n",
      "700/700 [==============================] - 0s 46us/sample - loss: 24.8109\n",
      "Epoch 246/250\n",
      "700/700 [==============================] - 0s 50us/sample - loss: 24.1791\n",
      "Epoch 247/250\n",
      "700/700 [==============================] - 0s 47us/sample - loss: 24.0904\n",
      "Epoch 248/250\n",
      "700/700 [==============================] - 0s 48us/sample - loss: 24.4240\n",
      "Epoch 249/250\n",
      "700/700 [==============================] - 0s 50us/sample - loss: 24.0216\n",
      "Epoch 250/250\n",
      "700/700 [==============================] - 0s 48us/sample - loss: 24.0859\n"
     ]
    },
    {
     "data": {
      "text/plain": [
       "<tensorflow.python.keras.callbacks.History at 0x1b14f3038c8>"
      ]
     },
     "execution_count": 84,
     "metadata": {},
     "output_type": "execute_result"
    }
   ],
   "source": [
    "model.fit(X_train, y_train, epochs = 250 , verbose = 1)"
   ]
  },
  {
   "cell_type": "code",
   "execution_count": 85,
   "metadata": {},
   "outputs": [
    {
     "data": {
      "text/plain": [
       "{'loss': [256640.508125,\n",
       "  256505.60625,\n",
       "  256373.00089285715,\n",
       "  256227.4769642857,\n",
       "  256063.16125,\n",
       "  255880.02321428573,\n",
       "  255675.63875,\n",
       "  255448.17705357142,\n",
       "  255198.2425892857,\n",
       "  254923.08767857144,\n",
       "  254624.21410714285,\n",
       "  254299.01589285713,\n",
       "  253945.08910714285,\n",
       "  253564.76276785714,\n",
       "  253152.75098214287,\n",
       "  252708.92223214285,\n",
       "  252219.58160714287,\n",
       "  251680.10625,\n",
       "  251086.98446428572,\n",
       "  250435.60794642856,\n",
       "  249725.33151785715,\n",
       "  248946.49839285715,\n",
       "  248098.30071428572,\n",
       "  247186.43491071428,\n",
       "  246185.4657142857,\n",
       "  245110.44339285715,\n",
       "  243954.12491071428,\n",
       "  242695.56660714286,\n",
       "  241351.07589285713,\n",
       "  239906.06267857144,\n",
       "  238358.3444642857,\n",
       "  236707.77580357142,\n",
       "  234947.11285714287,\n",
       "  233067.05482142858,\n",
       "  231066.45339285713,\n",
       "  228950.27982142856,\n",
       "  226697.14151785715,\n",
       "  224308.25357142856,\n",
       "  221783.3524107143,\n",
       "  219134.51276785714,\n",
       "  216334.96125,\n",
       "  213387.01232142857,\n",
       "  210302.57955357144,\n",
       "  207051.84758928572,\n",
       "  203654.95375,\n",
       "  200097.21455357142,\n",
       "  196399.02473214286,\n",
       "  192525.90758928572,\n",
       "  188517.4149107143,\n",
       "  184336.33339285714,\n",
       "  179983.344375,\n",
       "  175476.89625,\n",
       "  170822.25767857142,\n",
       "  166001.16330357143,\n",
       "  161044.58598214286,\n",
       "  155948.70357142857,\n",
       "  150672.26910714287,\n",
       "  145279.72464285715,\n",
       "  139768.004375,\n",
       "  134121.55276785715,\n",
       "  128341.21839285715,\n",
       "  122460.20772321429,\n",
       "  116517.30651785714,\n",
       "  110479.454375,\n",
       "  104393.32705357143,\n",
       "  98210.56209821429,\n",
       "  92048.16919642857,\n",
       "  85824.86580357143,\n",
       "  79594.26299107143,\n",
       "  73428.41881696429,\n",
       "  67311.42200892857,\n",
       "  61219.66421875,\n",
       "  55239.01732142857,\n",
       "  49423.62236607143,\n",
       "  43748.165111607144,\n",
       "  38281.75498883928,\n",
       "  33036.373671875,\n",
       "  28064.357957589287,\n",
       "  23380.297834821427,\n",
       "  19081.4090625,\n",
       "  15149.928911830357,\n",
       "  11681.682159598215,\n",
       "  8694.113133370536,\n",
       "  6228.639475446428,\n",
       "  4315.740373883928,\n",
       "  2988.9957393973214,\n",
       "  2230.6354931640626,\n",
       "  1924.2351946149554,\n",
       "  1856.6500481305804,\n",
       "  1830.92416015625,\n",
       "  1797.3336160714287,\n",
       "  1764.6277992466519,\n",
       "  1732.7637046595983,\n",
       "  1704.418527483259,\n",
       "  1674.5128445870537,\n",
       "  1645.2995689174106,\n",
       "  1612.9289955357142,\n",
       "  1585.4277839006697,\n",
       "  1553.7382386997767,\n",
       "  1527.07669921875,\n",
       "  1497.5827769252232,\n",
       "  1467.1037025669643,\n",
       "  1440.6068973214285,\n",
       "  1411.2488811383928,\n",
       "  1389.063337751116,\n",
       "  1360.9473444475445,\n",
       "  1332.936452985491,\n",
       "  1305.034801199777,\n",
       "  1277.4210400390625,\n",
       "  1250.1615844726562,\n",
       "  1218.38296875,\n",
       "  1197.6398193359375,\n",
       "  1171.620695452009,\n",
       "  1146.9940380859375,\n",
       "  1121.3147767857142,\n",
       "  1095.3067396763392,\n",
       "  1068.660525251116,\n",
       "  1041.7386788504464,\n",
       "  1012.5875795200893,\n",
       "  983.3420971679687,\n",
       "  958.0553655133929,\n",
       "  933.4290098353795,\n",
       "  909.5743202427456,\n",
       "  883.0361526925224,\n",
       "  859.1010337611607,\n",
       "  836.4924996512277,\n",
       "  811.8502954101563,\n",
       "  786.419084123884,\n",
       "  763.3303292410715,\n",
       "  737.8072108677455,\n",
       "  713.9642414202009,\n",
       "  691.3209640066964,\n",
       "  672.143064313616,\n",
       "  651.4920525251116,\n",
       "  631.8882781110491,\n",
       "  610.7906183733259,\n",
       "  589.8616055733817,\n",
       "  562.4840738351005,\n",
       "  549.7452162388392,\n",
       "  528.7953194754464,\n",
       "  510.81254429408483,\n",
       "  491.1339765276228,\n",
       "  473.2566819545201,\n",
       "  456.08492693219864,\n",
       "  437.64216971261163,\n",
       "  420.01424124581473,\n",
       "  402.16352015904016,\n",
       "  386.4780846296038,\n",
       "  372.243120640346,\n",
       "  354.94387590680805,\n",
       "  340.14141444614955,\n",
       "  326.4649548339844,\n",
       "  311.4645530482701,\n",
       "  295.2468866838728,\n",
       "  283.9078173828125,\n",
       "  271.5552082170759,\n",
       "  258.03085867745534,\n",
       "  245.4907737513951,\n",
       "  230.74836146763394,\n",
       "  217.43414402553014,\n",
       "  206.32327654157365,\n",
       "  196.12716988699776,\n",
       "  184.9924570138114,\n",
       "  176.9633309500558,\n",
       "  165.5885387311663,\n",
       "  154.63935520717075,\n",
       "  145.75657784598215,\n",
       "  136.71968841552734,\n",
       "  128.4563880266462,\n",
       "  120.2663130405971,\n",
       "  112.47900996616909,\n",
       "  105.28671282087053,\n",
       "  97.82562752859933,\n",
       "  91.3355691092355,\n",
       "  84.81009892054966,\n",
       "  78.64899928501674,\n",
       "  73.02369589669364,\n",
       "  67.57708779471261,\n",
       "  63.03918842860631,\n",
       "  58.960230407714846,\n",
       "  55.11821546282087,\n",
       "  51.25602462768555,\n",
       "  48.239119306291855,\n",
       "  44.74308279854911,\n",
       "  42.56758619035993,\n",
       "  39.79662536621094,\n",
       "  38.16636008126395,\n",
       "  36.00997210911342,\n",
       "  34.342244437081476,\n",
       "  32.433136912754605,\n",
       "  31.79649640764509,\n",
       "  30.727351662772044,\n",
       "  29.478035736083985,\n",
       "  28.863138722011023,\n",
       "  27.98383010864258,\n",
       "  27.59362225123814,\n",
       "  26.676665289742605,\n",
       "  26.883060738699776,\n",
       "  25.876720853533065,\n",
       "  25.617483357020788,\n",
       "  25.4599539402553,\n",
       "  25.32011595589774,\n",
       "  25.020206102643694,\n",
       "  25.30882810320173,\n",
       "  25.169177039010183,\n",
       "  24.72562677655901,\n",
       "  24.315648520333426,\n",
       "  24.952297025408065,\n",
       "  24.818676343645368,\n",
       "  24.669356427873883,\n",
       "  24.02366562979562,\n",
       "  24.492275406973704,\n",
       "  24.838097479684013,\n",
       "  24.689340853009906,\n",
       "  24.199724611554828,\n",
       "  24.48881979261126,\n",
       "  24.26954132080078,\n",
       "  24.479661407470704,\n",
       "  24.33780953543527,\n",
       "  24.631922062465122,\n",
       "  24.370872492109026,\n",
       "  24.323005796160018,\n",
       "  24.198134029933385,\n",
       "  24.01778100149972,\n",
       "  24.34463201250349,\n",
       "  24.449269747052874,\n",
       "  24.47253609793527,\n",
       "  24.417916194370815,\n",
       "  24.565034626552038,\n",
       "  24.12260843549456,\n",
       "  24.038236683436804,\n",
       "  24.075748792375837,\n",
       "  24.230032168797084,\n",
       "  24.601991936819893,\n",
       "  24.19004425048828,\n",
       "  23.971467928205218,\n",
       "  24.70701347351074,\n",
       "  23.945364467075894,\n",
       "  24.43002030508859,\n",
       "  24.173124498639787,\n",
       "  24.3303080531529,\n",
       "  24.46985723223005,\n",
       "  24.07911231994629,\n",
       "  24.63830911908831,\n",
       "  24.81088002886091,\n",
       "  24.179094096592493,\n",
       "  24.090364750453404,\n",
       "  24.423973552158902,\n",
       "  24.02159273965018,\n",
       "  24.08585168021066]}"
      ]
     },
     "execution_count": 85,
     "metadata": {},
     "output_type": "execute_result"
    }
   ],
   "source": [
    "model.history.history"
   ]
  },
  {
   "cell_type": "code",
   "execution_count": 86,
   "metadata": {},
   "outputs": [
    {
     "data": {
      "text/html": [
       "<div>\n",
       "<style scoped>\n",
       "    .dataframe tbody tr th:only-of-type {\n",
       "        vertical-align: middle;\n",
       "    }\n",
       "\n",
       "    .dataframe tbody tr th {\n",
       "        vertical-align: top;\n",
       "    }\n",
       "\n",
       "    .dataframe thead th {\n",
       "        text-align: right;\n",
       "    }\n",
       "</style>\n",
       "<table border=\"1\" class=\"dataframe\">\n",
       "  <thead>\n",
       "    <tr style=\"text-align: right;\">\n",
       "      <th></th>\n",
       "      <th>loss</th>\n",
       "    </tr>\n",
       "  </thead>\n",
       "  <tbody>\n",
       "    <tr>\n",
       "      <th>0</th>\n",
       "      <td>256640.508125</td>\n",
       "    </tr>\n",
       "    <tr>\n",
       "      <th>1</th>\n",
       "      <td>256505.606250</td>\n",
       "    </tr>\n",
       "    <tr>\n",
       "      <th>2</th>\n",
       "      <td>256373.000893</td>\n",
       "    </tr>\n",
       "    <tr>\n",
       "      <th>3</th>\n",
       "      <td>256227.476964</td>\n",
       "    </tr>\n",
       "    <tr>\n",
       "      <th>4</th>\n",
       "      <td>256063.161250</td>\n",
       "    </tr>\n",
       "  </tbody>\n",
       "</table>\n",
       "</div>"
      ],
      "text/plain": [
       "            loss\n",
       "0  256640.508125\n",
       "1  256505.606250\n",
       "2  256373.000893\n",
       "3  256227.476964\n",
       "4  256063.161250"
      ]
     },
     "execution_count": 86,
     "metadata": {},
     "output_type": "execute_result"
    }
   ],
   "source": [
    "cc"
   ]
  },
  {
   "cell_type": "code",
   "execution_count": 87,
   "metadata": {},
   "outputs": [
    {
     "data": {
      "text/plain": [
       "<matplotlib.axes._subplots.AxesSubplot at 0x1b14f44f9c8>"
      ]
     },
     "execution_count": 87,
     "metadata": {},
     "output_type": "execute_result"
    },
    {
     "data": {
      "image/png": "[encoded data removed]",
      "text/plain": [
       "<Figure size 432x288 with 1 Axes>"
      ]
     },
     "metadata": {
      "needs_background": "light"
     },
     "output_type": "display_data"
    }
   ],
   "source": [
    "losses.plot()"
   ]
  },
  {
   "cell_type": "code",
   "execution_count": 88,
   "metadata": {},
   "outputs": [
    {
     "data": {
      "text/plain": [
       "82.6065889485677"
      ]
     },
     "execution_count": 88,
     "metadata": {},
     "output_type": "execute_result"
    }
   ],
   "source": [
    "model.evaluate(X_test, y_test, verbose = 0)"
   ]
  },
  {
   "cell_type": "code",
   "execution_count": 89,
   "metadata": {},
   "outputs": [
    {
     "data": {
      "text/plain": [
       "25.632845502580913"
      ]
     },
     "execution_count": 89,
     "metadata": {},
     "output_type": "execute_result"
    }
   ],
   "source": [
    "model.evaluate(X_train, y_train, verbose = 0)"
   ]
  },
  {
   "cell_type": "code",
   "execution_count": 90,
   "metadata": {},
   "outputs": [],
   "source": [
    "test_predictions = model.predict(X_test)"
   ]
  },
  {
   "cell_type": "code",
   "execution_count": 91,
   "metadata": {},
   "outputs": [],
   "source": [
    "test_predictions = pd.Series(test_predictions.reshape(300,))\n",
    "pred_df = pd.DataFrame(y_test, columns = ['Test True Y'])"
   ]
  },
  {
   "cell_type": "code",
   "execution_count": 92,
   "metadata": {},
   "outputs": [],
   "source": [
    "pred_df = pd.concat([pred_df, test_predictions] , axis = 1)"
   ]
  },
  {
   "cell_type": "code",
   "execution_count": 93,
   "metadata": {},
   "outputs": [],
   "source": [
    "pred_df.columns = ['Test True Y' , 'Model Predictions']"
   ]
  },
  {
   "cell_type": "code",
   "execution_count": 94,
   "metadata": {},
   "outputs": [
    {
     "data": {
      "text/plain": [
       "<matplotlib.axes._subplots.AxesSubplot at 0x1b14f4cc608>"
      ]
     },
     "execution_count": 94,
     "metadata": {},
     "output_type": "execute_result"
    },
    {
     "data": {
      "image/png": "[encoded data removed]",
      "text/plain": [
       "<Figure size 432x288 with 1 Axes>"
      ]
     },
     "metadata": {
      "needs_background": "light"
     },
     "output_type": "display_data"
    }
   ],
   "source": [
    "sns.scatterplot(x = 'Test True Y' , y = 'Model Predictions' , data = pred_df)"
   ]
  },
  {
   "cell_type": "code",
   "execution_count": 95,
   "metadata": {},
   "outputs": [],
   "source": [
    "from sklearn.metrics import mean_absolute_error , mean_squared_error"
   ]
  },
  {
   "cell_type": "code",
   "execution_count": 97,
   "metadata": {
    "scrolled": true
   },
   "outputs": [
    {
     "data": {
      "text/plain": [
       "82.60658211594217"
      ]
     },
     "execution_count": 97,
     "metadata": {},
     "output_type": "execute_result"
    }
   ],
   "source": [
    "mean_squared_error(pred_df['Test True Y'], pred_df['Model Predictions'])"
   ]
  },
  {
   "cell_type": "code",
   "execution_count": 99,
   "metadata": {},
   "outputs": [
    {
     "data": {
      "text/plain": [
       "7.516790429866687"
      ]
     },
     "execution_count": 99,
     "metadata": {},
     "output_type": "execute_result"
    }
   ],
   "source": [
    "mean_absolute_error(pred_df['Test True Y'], pred_df['Model Predictions'])"
   ]
  },
  {
   "cell_type": "code",
   "execution_count": 103,
   "metadata": {},
   "outputs": [],
   "source": [
    "from tensorflow.keras.models import load_model"
   ]
  },
  {
   "cell_type": "code",
   "execution_count": 106,
   "metadata": {},
   "outputs": [],
   "source": [
    "model.save('DeDoyens_model.h5')"
   ]
  },
  {
   "cell_type": "code",
   "execution_count": 107,
   "metadata": {},
   "outputs": [
    {
     "name": "stdout",
     "output_type": "stream",
     "text": [
      "WARNING:tensorflow:Sequential models without an `input_shape` passed to the first layer cannot reload their optimizer state. As a result, your model isstarting with a freshly initialized optimizer.\n"
     ]
    }
   ],
   "source": [
    "later_model = load_model('DeDoyens_model.h5')"
   ]
  },
  {
   "cell_type": "code",
   "execution_count": null,
   "metadata": {},
   "outputs": [],
   "source": []
  }
 ],
 "metadata": {
  "kernelspec": {
   "display_name": "Python 3",
   "language": "python",
   "name": "python3"
  },
  "language_info": {
   "codemirror_mode": {
    "name": "ipython",
    "version": 3
   },
   "file_extension": ".py",
   "mimetype": "text/x-python",
   "name": "python",
   "nbconvert_exporter": "python",
   "pygments_lexer": "ipython3",
   "version": "3.7.6"
  }
 },
 "nbformat": 4,
 "nbformat_minor": 4
}
